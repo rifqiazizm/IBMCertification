{
 "cells": [
  {
   "cell_type": "markdown",
   "id": "57675d68",
   "metadata": {},
   "source": [
    "Exercise 2"
   ]
  },
  {
   "cell_type": "markdown",
   "id": "500027e4",
   "metadata": {},
   "source": [
    "# IBM Data Science"
   ]
  },
  {
   "cell_type": "markdown",
   "id": "02b80f09",
   "metadata": {},
   "source": [
    "exercise 3"
   ]
  },
  {
   "cell_type": "markdown",
   "id": "3fdd20f4",
   "metadata": {},
   "source": [
    "In this notebook, Data Science Tools and Ecosystem are summarized."
   ]
  },
  {
   "cell_type": "markdown",
   "id": "d5566fa3",
   "metadata": {},
   "source": [
    "Exercise 10"
   ]
  },
  {
   "cell_type": "markdown",
   "id": "16c28273",
   "metadata": {},
   "source": [
    "###### Objectives:\n",
    "\n",
    "<ul>\n",
    "  <li>Data Science's most popular language</li>\n",
    "  <li>best tools to use in Data Science</li>\n",
    "  <li>Data Science most popular library</li>\n",
    "   <li>Data science step by step</li>\n",
    "</ul>"
   ]
  },
  {
   "cell_type": "markdown",
   "id": "501b2f4a",
   "metadata": {},
   "source": [
    "Exercise 11"
   ]
  },
  {
   "cell_type": "markdown",
   "id": "82cfd38e",
   "metadata": {},
   "source": [
    "## Author : \n",
    "Muhammad Rifqi Aziz\n"
   ]
  },
  {
   "cell_type": "markdown",
   "id": "cb0498b0",
   "metadata": {},
   "source": [
    "exercise 4 "
   ]
  },
  {
   "cell_type": "markdown",
   "id": "5a2fe169",
   "metadata": {},
   "source": [
    "Some of the popular languages that Data Scientists use are:\n",
    "<ol>\n",
    "  <li>python</li>\n",
    "  <li>R</li>\n",
    "  <li>Java</li>\n",
    "   <li>C++</li>\n",
    "</ol>"
   ]
  },
  {
   "cell_type": "markdown",
   "id": "8e2f9a1b",
   "metadata": {},
   "source": [
    "exercise 5"
   ]
  },
  {
   "cell_type": "markdown",
   "id": "cf3ec338",
   "metadata": {},
   "source": [
    "Some of the commonly used libraries used by Data Scientists include:\n",
    "<ol>\n",
    "  <li>Pandas</li>\n",
    "  <li>Numpy</li>\n",
    "  <li>Scikit-learn</li>\n",
    "   <li>Tensorflow</li>\n",
    "</ol>"
   ]
  },
  {
   "cell_type": "markdown",
   "id": "95901171",
   "metadata": {},
   "source": [
    "Exercise 6"
   ]
  },
  {
   "cell_type": "markdown",
   "id": "79ca3841",
   "metadata": {},
   "source": [
    "| Data Science Tools |\n",
    "| -- |\n",
    "| Jupyter Notebook |\n",
    "| Anaconda |\n",
    "| R studio |"
   ]
  },
  {
   "cell_type": "markdown",
   "id": "207e830c",
   "metadata": {},
   "source": [
    "Exercise 7 "
   ]
  },
  {
   "cell_type": "markdown",
   "id": "4ff50cbd",
   "metadata": {},
   "source": [
    "### Below are a few examples of evaluating arithmetic expressions in Python"
   ]
  },
  {
   "cell_type": "markdown",
   "id": "d6153c75",
   "metadata": {},
   "source": [
    "Exercise 8"
   ]
  },
  {
   "cell_type": "code",
   "execution_count": 3,
   "id": "aa41a6f0",
   "metadata": {
    "scrolled": true
   },
   "outputs": [
    {
     "data": {
      "text/plain": [
       "17"
      ]
     },
     "execution_count": 3,
     "metadata": {},
     "output_type": "execute_result"
    }
   ],
   "source": [
    "# this is a simple math in python \n",
    "\n",
    "(3*4)+5"
   ]
  },
  {
   "cell_type": "markdown",
   "id": "6283900a",
   "metadata": {},
   "source": [
    "Exercise 9"
   ]
  },
  {
   "cell_type": "code",
   "execution_count": 6,
   "id": "c679e2dc",
   "metadata": {},
   "outputs": [
    {
     "data": {
      "text/plain": [
       "3.3333333333333335"
      ]
     },
     "execution_count": 6,
     "metadata": {},
     "output_type": "execute_result"
    }
   ],
   "source": [
    "# this will simply convert minutes to hours by dividing to 60\n",
    "\n",
    "200 / 60"
   ]
  }
 ],
 "metadata": {
  "kernelspec": {
   "display_name": "Python 3 (ipykernel)",
   "language": "python",
   "name": "python3"
  },
  "language_info": {
   "codemirror_mode": {
    "name": "ipython",
    "version": 3
   },
   "file_extension": ".py",
   "mimetype": "text/x-python",
   "name": "python",
   "nbconvert_exporter": "python",
   "pygments_lexer": "ipython3",
   "version": "3.10.1"
  }
 },
 "nbformat": 4,
 "nbformat_minor": 5
}
